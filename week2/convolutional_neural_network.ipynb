{
 "cells": [
  {
   "cell_type": "markdown",
   "metadata": {},
   "source": [
    "# Convolutional Neural Network\n",
    "In this tutorial, we will implement convolutional neural network to classify mnist dataset."
   ]
  },
  {
   "cell_type": "code",
   "execution_count": 22,
   "metadata": {
    "collapsed": false
   },
   "outputs": [
    {
     "name": "stdout",
     "output_type": "stream",
     "text": [
      "Extracting mnist/train-images-idx3-ubyte.gz\n",
      "Extracting mnist/train-labels-idx1-ubyte.gz\n",
      "Extracting mnist/t10k-images-idx3-ubyte.gz\n",
      "Extracting mnist/t10k-labels-idx1-ubyte.gz\n",
      "x_train:  (55000, 28, 28, 1)\n",
      "y_train:  (55000, 10)\n",
      "x_test:  (10000, 28, 28, 1)\n",
      "y_test:  (10000, 10)\n"
     ]
    }
   ],
   "source": [
    "from tensorflow.examples.tutorials.mnist import input_data\n",
    "import tensorflow as tf\n",
    "from ops import conv2d, linear\n",
    "\n",
    "\n",
    "mnist = input_data.read_data_sets(\"mnist/\", one_hot=True)\n",
    "x_train = mnist.train.images.reshape(-1, 28, 28, 1)\n",
    "y_train = mnist.train.labels\n",
    "x_test = mnist.test.images.reshape(-1, 28, 28, 1)\n",
    "y_test = mnist.test.labels\n",
    "\n",
    "print \"x_train: \", x_train.shape\n",
    "print \"y_train: \", y_train.shape\n",
    "print \"x_test: \", x_test.shape\n",
    "print \"y_test: \", y_test.shape"
   ]
  },
  {
   "cell_type": "markdown",
   "metadata": {},
   "source": [
    "## Parameter Settings "
   ]
  },
  {
   "cell_type": "code",
   "execution_count": 19,
   "metadata": {
    "collapsed": false
   },
   "outputs": [],
   "source": [
    "num_class = 10\n",
    "\n",
    "params = {\n",
    "    # weights and biases for convolution layer\n",
    "    'w_conv1': tf.Variable(tf.random_normal([5, 5, 1, 32], stddev=0.1)),\n",
    "    'b_conv1': tf.Variable(tf.zeros([32])),\n",
    "    'w_conv2': tf.Variable(tf.random_normal([5, 5, 32, 64], stddev=0.1)),\n",
    "    'b_conv2': tf.Variable(tf.zeros([64])),\n",
    "    \n",
    "    # weights and biases for fully-connected layer\n",
    "    'w_h': tf.Variable(tf.random_normal([7*7*64, 128], stddev=0.1)),\n",
    "    'b_h': tf.Variable(tf.zeros([128])),\n",
    "    'w_out': tf.Variable(tf.random_normal([128, num_class], stddev=0.1)),\n",
    "    'b_out': tf.Variable(tf.zeros([num_class]))\n",
    "}"
   ]
  },
  {
   "cell_type": "markdown",
   "metadata": {},
   "source": [
    "## Define and Construct Model"
   ]
  },
  {
   "cell_type": "code",
   "execution_count": 20,
   "metadata": {
    "collapsed": true
   },
   "outputs": [],
   "source": [
    "def convolutional_network(x):\n",
    "    # 1st convolution layer\n",
    "    conv1 = tf.nn.conv2d(x, params['w_conv1'], strides=[1,1,1,1], padding='SAME') + params['b_conv1']\n",
    "    conv1 = tf.nn.relu(conv1)\n",
    "    conv1 = tf.nn.max_pool(conv1, ksize=[1,2,2,1], strides=[1,2,2,1], padding='SAME')\n",
    "    \n",
    "    # 2nd convolution layer\n",
    "    conv2 = tf.nn.conv2d(conv1, params['w_conv2'], strides=[1,1,1,1], padding='SAME') + params['b_conv2']\n",
    "    conv2 = tf.nn.relu(conv2)\n",
    "    conv2 = tf.nn.max_pool(conv2, ksize=[1,2,2,1], strides=[1,2,2,1], padding='SAME')\n",
    "    \n",
    "    # fully connected layer\n",
    "    conv2 = tf.reshape(conv2, [tf.shape(conv2)[0], -1])\n",
    "    h = tf.matmul(conv2, params['w_h']) + params['b_h']\n",
    "    h = tf.nn.relu(h)\n",
    "    out = h = tf.matmul(h, params['w_out']) + params['b_out']\n",
    "    \n",
    "    return out"
   ]
  },
  {
   "cell_type": "code",
   "execution_count": 29,
   "metadata": {
    "collapsed": false
   },
   "outputs": [
    {
     "name": "stdout",
     "output_type": "stream",
     "text": [
      "\n"
     ]
    }
   ],
   "source": [
    "# construct model\n",
    "x = tf.placeholder(dtype=tf.float32, shape=[None, 28, 28, 1])\n",
    "y = tf.placeholder(dtype=tf.int64, shape=[None, 10])\n",
    "out = convolutional_network(x)\n",
    "\n",
    "# define loss\n",
    "loss = tf.reduce_mean(tf.nn.softmax_cross_entropy_with_logits(out, y))\n",
    "train_op = tf.train.RMSPropOptimizer(learning_rate=0.01).minimize(loss)\n",
    "\n",
    "# find correct prediction and accuracy\n",
    "correct_pred = tf.equal(tf.argmax(out,1), tf.argmax(y,1))\n",
    "accuracy = tf.reduce_mean(tf.cast(correct_pred, tf.float32))"
   ]
  },
  {
   "cell_type": "code",
   "execution_count": null,
   "metadata": {
    "collapsed": true
   },
   "outputs": [],
   "source": []
  },
  {
   "cell_type": "code",
   "execution_count": 32,
   "metadata": {
    "collapsed": false
   },
   "outputs": [
    {
     "ename": "SyntaxError",
     "evalue": "invalid syntax (<ipython-input-32-16f2a92ef861>, line 38)",
     "output_type": "error",
     "traceback": [
      "\u001b[0;36m  File \u001b[0;32m\"<ipython-input-32-16f2a92ef861>\"\u001b[0;36m, line \u001b[0;32m38\u001b[0m\n\u001b[0;31m    print \"Test accuracy:\", test_accuracy/num_iter_per_epoch)\u001b[0m\n\u001b[0m                                                            ^\u001b[0m\n\u001b[0;31mSyntaxError\u001b[0m\u001b[0;31m:\u001b[0m invalid syntax\n"
     ]
    }
   ],
   "source": [
    "batch_size = 100\n",
    "num_epoch = 15\n",
    "num_iter_per_epoch = int(x_train.shape[0] / batch_size)\n",
    "\n",
    "# launch the graph\n",
    "config = tf.ConfigProto()\n",
    "config.gpu_options.allow_growth = True\n",
    "with tf.Session(config=config) as sess:\n",
    "    # initialize tensor variables\n",
    "    tf.initialize_all_variables().run()\n",
    "    \n",
    "    # training cycle\n",
    "    for epoch in range(num_epoch):\n",
    "        avg_loss = 0.\n",
    "        # loop over all batches\n",
    "        for i in range(num_iter_per_epoch):\n",
    "            x_batch = x_train[i*batch_size:(i+1)*batch_size]\n",
    "            y_batch = y_train[i*batch_size:(i+1)*batch_size]\n",
    "        \n",
    "            # run optimization op (backprop) and loss op (to get loss value)\n",
    "            _, c = sess.run([train_op, loss], feed_dict={x: x_batch, y: y_batch})\n",
    "            \n",
    "            # compute average loss\n",
    "            avg_loss += c / num_iter_per_epoch\n",
    "        print \"Epoch %d, Loss: %.3f\"% (epoch+1, avg_loss)\n",
    "    print (\"Finished training!\\n\")\n",
    "    \n",
    "    \n",
    "    num_iter_per_epoch = int(x_test.shape[0] / batch_size)\n",
    "    test_accuracy = 0.0\n",
    "    for i in range(num_iter_per_epoch):\n",
    "        x_batch = x_test[i*batch_size:(i+1)*batch_size]\n",
    "        y_batch = y_test[i*batch_size:(i+1)*batch_size]\n",
    "       \n",
    "        acc = sess.run(accuracy, feed_dict={x: x_batch, y: y_batch})\n",
    "        test_accuracy += acc\n",
    "\n",
    "    print (\"Test accuracy:\", test_accuracy/num_iter_per_epoch)"
   ]
  },
  {
   "cell_type": "code",
   "execution_count": null,
   "metadata": {
    "collapsed": true
   },
   "outputs": [],
   "source": []
  }
 ],
 "metadata": {
  "kernelspec": {
   "display_name": "Python [conda root]",
   "language": "python",
   "name": "conda-root-py"
  },
  "language_info": {
   "codemirror_mode": {
    "name": "ipython",
    "version": 2
   },
   "file_extension": ".py",
   "mimetype": "text/x-python",
   "name": "python",
   "nbconvert_exporter": "python",
   "pygments_lexer": "ipython2",
   "version": "2.7.12"
  }
 },
 "nbformat": 4,
 "nbformat_minor": 1
}

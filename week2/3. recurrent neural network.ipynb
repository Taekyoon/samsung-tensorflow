{
 "cells": [
  {
   "cell_type": "markdown",
   "metadata": {},
   "source": [
    "# Recurrent Neural Network\n",
    "In this tutorial, we will implement a recurrent neural network to classify mnist dataset."
   ]
  },
  {
   "cell_type": "markdown",
   "metadata": {},
   "source": [
    "## Import library and load MNIST dataset\n",
    "MNIST dataset has 55,000 examples for training and 10,000 examples for testing. Each image has a size of 784 (28x28)."
   ]
  },
  {
   "cell_type": "code",
   "execution_count": 1,
   "metadata": {
    "collapsed": false
   },
   "outputs": [
    {
     "name": "stdout",
     "output_type": "stream",
     "text": [
      "Extracting mnist/train-images-idx3-ubyte.gz\n",
      "Extracting mnist/train-labels-idx1-ubyte.gz\n",
      "Extracting mnist/t10k-images-idx3-ubyte.gz\n",
      "Extracting mnist/t10k-labels-idx1-ubyte.gz\n",
      "x_train:  (55000, 28, 28)\n",
      "y_train:  (55000,)\n",
      "x_test:  (10000, 28, 28)\n",
      "y_test:  (10000,)\n"
     ]
    }
   ],
   "source": [
    "from tensorflow.examples.tutorials.mnist import input_data\n",
    "import tensorflow as tf\n",
    "from ops import conv2d, linear\n",
    "\n",
    "\n",
    "mnist = input_data.read_data_sets(\"mnist/\", one_hot=False)\n",
    "x_train = mnist.train.images.reshape(-1, 28, 28)\n",
    "y_train = mnist.train.labels\n",
    "x_test = mnist.test.images.reshape(-1, 28, 28)\n",
    "y_test = mnist.test.labels\n",
    "\n",
    "print \"x_train: \", x_train.shape\n",
    "print \"y_train: \", y_train.shape\n",
    "print \"x_test: \", x_test.shape\n",
    "print \"y_test: \", y_test.shape"
   ]
  },
  {
   "cell_type": "markdown",
   "metadata": {},
   "source": [
    "## Hyper-parameter settings"
   ]
  },
  {
   "cell_type": "code",
   "execution_count": 2,
   "metadata": {
    "collapsed": true
   },
   "outputs": [],
   "source": [
    "seq_length = 28   \n",
    "dim_input = 28\n",
    "dim_hidden = 32\n",
    "dim_out = 10\n",
    "num_layers = 1\n",
    "keep_prob = 0.7  # keep probability for drop-out "
   ]
  },
  {
   "cell_type": "markdown",
   "metadata": {},
   "source": [
    "## Define and construct model\n",
    "\n",
    "Now, we will develope a recurrent neural network with LSTM unit."
   ]
  },
  {
   "cell_type": "code",
   "execution_count": 3,
   "metadata": {
    "collapsed": true
   },
   "outputs": [],
   "source": [
    "def recurrent_network(x, mode='train'):\n",
    "    with tf.variable_scope('lstm') as scope:\n",
    "        lstm_cell = tf.nn.rnn_cell.BasicLSTMCell(num_units=dim_hidden)\n",
    "        if mode == 'train':\n",
    "            lstm_cell = tf.nn.rnn_cell.DropoutWrapper(cell=lstm_cell, output_keep_prob=keep_prob)\n",
    "        lstm_cell = tf.nn.rnn_cell.MultiRNNCell(cells=[lstm_cell]*num_layers, state_is_tuple=True)\n",
    "        outputs, states = tf.nn.dynamic_rnn(cell=lstm_cell, inputs=x, dtype=tf.float32, scope=scope)\n",
    "  \n",
    "    with tf.variable_scope('logits'):\n",
    "        w = tf.get_variable('w', shape=[dim_hidden, dim_out], initializer=tf.random_normal_initializer())\n",
    "        b = tf.get_variable('b', shape=[dim_out], initializer=tf.constant_initializer(0.0))\n",
    "        out = tf.matmul(tf.reshape(outputs[:, -1, :], [-1, dim_hidden]), w) + b\n",
    "        return out"
   ]
  },
  {
   "cell_type": "code",
   "execution_count": 4,
   "metadata": {
    "collapsed": true
   },
   "outputs": [],
   "source": [
    "x = tf.placeholder(dtype=tf.float32, shape=[None, 28, 28], name='inputs')  \n",
    "y = tf.placeholder(dtype=tf.int64, shape=[None], name='labels')\n",
    "out = recurrent_network(x, mode='train')\n",
    "tf.get_variable_scope().reuse_variables()\n",
    "out2 = recurrent_network(x, mode='test')\n",
    "\n",
    "loss = tf.reduce_mean(tf.nn.sparse_softmax_cross_entropy_with_logits(out, y))\n",
    "train_op = tf.train.RMSPropOptimizer(learning_rate=0.01).minimize(loss)\n",
    "\n",
    "pred = tf.argmax(out2, 1) # batch_size\n",
    "\n",
    "correct_pred = tf.equal(pred, y)\n",
    "incorrect_pred = tf.not_equal(pred, y)\n",
    "\n",
    "accuracy = tf.reduce_mean(tf.cast(correct_pred, tf.float32))"
   ]
  },
  {
   "cell_type": "code",
   "execution_count": 6,
   "metadata": {
    "collapsed": false
   },
   "outputs": [
    {
     "name": "stdout",
     "output_type": "stream",
     "text": [
      "lstm/MultiRNNCell/Cell0/BasicLSTMCell/Linear/Matrix (60, 128)\n",
      "lstm/MultiRNNCell/Cell0/BasicLSTMCell/Linear/Bias (128,)\n",
      "logits/w (32, 10)\n",
      "logits/b (10,)\n"
     ]
    }
   ],
   "source": [
    "for var in tf.trainable_variables():\n",
    "    print var.op.name, var.get_shape()"
   ]
  },
  {
   "cell_type": "markdown",
   "metadata": {},
   "source": [
    "## Train and test the model\n",
    "\n",
    "From above, we build our neural network model to classify the MNIST dataset. To launch our model, we will implement a session where the model is actually trained and tested on the MNIST dataset.\n",
    "#### Train\n",
    "First, we initialize all variables we created above. This can be done by running `tf.initialize_all_variables()`. The most important part of code in the training phase is `sess.run([train_op, loss], feed_dict={x: x_batch, y:y_batch})`. This part of code feeds mini-batch data into placeholder and run train_op to update variables with `tf.train.RMSPropOptimizer` once. Also, loss is evaluated to print out the average loss for each epoch.\n",
    "#### Test\n",
    "Testing phase is quite simple. We use `sess.run(accuracy, feed_dict={x: x_batch, y: y_batch})` to print out the test accuracy."
   ]
  },
  {
   "cell_type": "code",
   "execution_count": 5,
   "metadata": {
    "collapsed": false
   },
   "outputs": [
    {
     "name": "stdout",
     "output_type": "stream",
     "text": [
      "Epoch 1, Loss: 0.740\n",
      "Epoch 2, Loss: 0.186\n",
      "Epoch 3, Loss: 0.136\n",
      "Epoch 4, Loss: 0.109\n",
      "Epoch 5, Loss: 0.097\n",
      "Finished training!\n",
      "Test accuracy: 0.968\n"
     ]
    }
   ],
   "source": [
    "batch_size = 100\n",
    "num_epoch = 5\n",
    "num_iter_per_epoch = int(x_train.shape[0] / batch_size)\n",
    "\n",
    "\n",
    "config = tf.ConfigProto()\n",
    "config.gpu_options.allow_growth = True\n",
    "with tf.Session(config=config) as sess:\n",
    "    # initialize tensor variables\n",
    "    tf.initialize_all_variables().run()\n",
    "    for e in range(num_epoch):\n",
    "        avg_loss = 0.\n",
    "        \n",
    "        # loop over all batches\n",
    "        for i in range(num_iter_per_epoch):\n",
    "            x_batch = x_train[i*batch_size:(i+1)*batch_size]\n",
    "            y_batch = y_train[i*batch_size:(i+1)*batch_size]\n",
    "            \n",
    "            # run optimization op (backprop) and loss op (to get loss value)\n",
    "            _, c = sess.run([train_op, loss], feed_dict={x: x_batch, y: y_batch})\n",
    "            # compute average loss\n",
    "            avg_loss += c / num_iter_per_epoch\n",
    "        print \"Epoch %d, Loss: %.3f\"% (e+1, avg_loss)\n",
    "    print \"Finished training!\"\n",
    "    \n",
    "    num_iter_per_epoch = int(x_test.shape[0] / batch_size)\n",
    "    test_accuracy = 0.0\n",
    "    for i in range(num_iter_per_epoch):\n",
    "        x_batch = x_test[i*batch_size:(i+1)*batch_size]\n",
    "        y_batch = y_test[i*batch_size:(i+1)*batch_size]\n",
    "       \n",
    "        acc = sess.run(accuracy, feed_dict={x: x_batch, y: y_batch})\n",
    "        test_accuracy += acc\n",
    "\n",
    "    print (\"Test accuracy: %.3f\" %(test_accuracy/num_iter_per_epoch))"
   ]
  }
 ],
 "metadata": {
  "anaconda-cloud": {},
  "kernelspec": {
   "display_name": "Python [conda root]",
   "language": "python",
   "name": "conda-root-py"
  },
  "language_info": {
   "codemirror_mode": {
    "name": "ipython",
    "version": 2
   },
   "file_extension": ".py",
   "mimetype": "text/x-python",
   "name": "python",
   "nbconvert_exporter": "python",
   "pygments_lexer": "ipython2",
   "version": "2.7.12"
  }
 },
 "nbformat": 4,
 "nbformat_minor": 1
}

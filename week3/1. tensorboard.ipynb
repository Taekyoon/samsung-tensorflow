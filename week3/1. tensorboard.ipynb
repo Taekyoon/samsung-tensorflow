{
 "cells": [
  {
   "cell_type": "markdown",
   "metadata": {},
   "source": [
    "# TensorBoard\n",
    "In this tutorial, we will implement a convolutional neural network and visualize the graph by using tensorboard.\n",
    "\n",
    "![alt text](jpg/cnn.jpg)"
   ]
  },
  {
   "cell_type": "code",
   "execution_count": 1,
   "metadata": {
    "collapsed": false
   },
   "outputs": [
    {
     "name": "stdout",
     "output_type": "stream",
     "text": [
      "Extracting mnist/train-images-idx3-ubyte.gz\n",
      "Extracting mnist/train-labels-idx1-ubyte.gz\n",
      "Extracting mnist/t10k-images-idx3-ubyte.gz\n",
      "Extracting mnist/t10k-labels-idx1-ubyte.gz\n",
      "x_train:  (55000, 28, 28, 1)\n",
      "y_train:  (55000, 10)\n",
      "x_test:  (10000, 28, 28, 1)\n",
      "y_test:  (10000, 10)\n"
     ]
    }
   ],
   "source": [
    "from tensorflow.examples.tutorials.mnist import input_data\n",
    "import tensorflow as tf\n",
    "\n",
    "\n",
    "mnist = input_data.read_data_sets(\"mnist/\", one_hot=True)\n",
    "x_train = mnist.train.images.reshape(-1, 28, 28, 1)\n",
    "y_train = mnist.train.labels\n",
    "x_test = mnist.test.images.reshape(-1, 28, 28, 1)\n",
    "y_test = mnist.test.labels\n",
    "\n",
    "print \"x_train: \", x_train.shape\n",
    "print \"y_train: \", y_train.shape\n",
    "print \"x_test: \", x_test.shape\n",
    "print \"y_test: \", y_test.shape"
   ]
  },
  {
   "cell_type": "markdown",
   "metadata": {},
   "source": [
    "## Define Network"
   ]
  },
  {
   "cell_type": "code",
   "execution_count": 2,
   "metadata": {
    "collapsed": true
   },
   "outputs": [],
   "source": [
    "def conv2d(x, channel_out, k_w=5, k_h=5, s_w=1, s_h=1, name=None):\n",
    "    \"\"\"Computes convolution operation\n",
    "    \n",
    "    Args:\n",
    "        x: input tensor of shape (batch_size, width_in, heigth_in, channel_in)\n",
    "        channel_out: number of channel for output tensor\n",
    "        k_w: kernel width size; default is 5\n",
    "        k_h: kernel height size; default is 5\n",
    "        s_w: stride size for width; default is 1\n",
    "        s_h: stride size for heigth; default is 1\n",
    "        \n",
    "    Returns:\n",
    "        out: output tensor of shape (batch_size, width_out, height_out, channel_out)\n",
    "    \"\"\"\n",
    "    channel_in = x.get_shape()[-1]\n",
    "    \n",
    "    with tf.variable_scope(name):\n",
    "        w = tf.get_variable('w', shape=[k_w, k_h, channel_in, channel_out], \n",
    "                            initializer=tf.truncated_normal_initializer(stddev=0.01))\n",
    "        b = tf.get_variable('b', shape=[channel_out], initializer=tf.constant_initializer(0.0))\n",
    "        \n",
    "        out = tf.nn.conv2d(x, w, strides=[1, s_w, s_h, 1], padding='SAME') + b\n",
    "        \n",
    "        return out"
   ]
  },
  {
   "cell_type": "code",
   "execution_count": 3,
   "metadata": {
    "collapsed": true
   },
   "outputs": [],
   "source": [
    "def linear(x, dim_out, name=None):\n",
    "    \"\"\"Computes linear transform (fully-connected layer)\n",
    "    \n",
    "    Args:\n",
    "        x: input tensor of shape (batch_size, dim_in)\n",
    "        dim_out: dimension for output tensor\n",
    "        \n",
    "    Returns:\n",
    "        out: output tensor of shape (batch_size, dim_out)\n",
    "    \"\"\"\n",
    "    dim_in = x.get_shape()[-1]\n",
    "    \n",
    "    with tf.variable_scope(name):\n",
    "        w = tf.get_variable('w', shape=[dim_in, dim_out], initializer=tf.truncated_normal_initializer(stddev=0.01))\n",
    "        b = tf.get_variable('b', shape=[dim_out], initializer=tf.constant_initializer(0.0))\n",
    "        \n",
    "        out = tf.matmul(x, w) + b\n",
    "        \n",
    "        return out"
   ]
  },
  {
   "cell_type": "code",
   "execution_count": 4,
   "metadata": {
    "collapsed": true
   },
   "outputs": [],
   "source": [
    "def convolutional_network(x):\n",
    "    # 1st convolution layer\n",
    "    conv1 = conv2d(x, channel_out=8, name='conv1')\n",
    "    conv1 = tf.nn.relu(conv1)\n",
    "    conv1 = tf.nn.max_pool(conv1, ksize=[1,2,2,1], strides=[1,2,2,1], padding='SAME')\n",
    "    \n",
    "    # 2nd convolution layer\n",
    "    conv2 = conv2d(conv1, channel_out=16, name='conv2')\n",
    "    conv2 = tf.nn.relu(conv2)\n",
    "    conv2 = tf.nn.max_pool(conv2, ksize=[1,2,2,1], strides=[1,2,2,1], padding='SAME')\n",
    "    \n",
    "    # fully connected layer\n",
    "    conv2 = tf.reshape(conv2, [-1, 7*7*16])\n",
    "    h = linear(conv2, dim_out=64, name='hidden')\n",
    "    h = tf.nn.relu(h)\n",
    "    out = linear(h, dim_out=10, name='out')\n",
    "    return out"
   ]
  },
  {
   "cell_type": "markdown",
   "metadata": {},
   "source": [
    "## Construct Model"
   ]
  },
  {
   "cell_type": "code",
   "execution_count": 5,
   "metadata": {
    "collapsed": false,
    "scrolled": false
   },
   "outputs": [],
   "source": [
    "# construct model\n",
    "x = tf.placeholder(dtype=tf.float32, shape=[None, 28, 28, 1])\n",
    "y = tf.placeholder(dtype=tf.int64, shape=[None, 10])\n",
    "out = convolutional_network(x)"
   ]
  },
  {
   "cell_type": "markdown",
   "metadata": {},
   "source": [
    "## Loss, Optimizer and Summary"
   ]
  },
  {
   "cell_type": "code",
   "execution_count": 6,
   "metadata": {
    "collapsed": true
   },
   "outputs": [],
   "source": [
    "# loss \n",
    "with tf.name_scope('loss'):\n",
    "    loss = tf.reduce_mean(tf.nn.softmax_cross_entropy_with_logits(out, y))\n",
    "\n",
    "# accuracy\n",
    "with tf.name_scope('accuracy'):\n",
    "    pred = tf.argmax(out, 1)\n",
    "    target = tf.argmax(y, 1)\n",
    "    correct_pred = tf.equal(pred, target)\n",
    "    accuracy = tf.reduce_mean(tf.cast(correct_pred, tf.float32))\n",
    "    \n",
    "# train op\n",
    "with tf.name_scope('optimizer'):\n",
    "    optimizer = tf.train.RMSPropOptimizer(learning_rate=0.001)\n",
    "    grads = tf.gradients(loss, tf.trainable_variables())\n",
    "    grads_and_vars = list(zip(grads, tf.trainable_variables()))\n",
    "    train_op = optimizer.apply_gradients(grads_and_vars=grads_and_vars)\n",
    "\n",
    "# add summary op   \n",
    "tf.scalar_summary('batch_loss', loss)\n",
    "for var in tf.trainable_variables():\n",
    "    tf.histogram_summary(var.op.name, var)\n",
    "for grad, var in grads_and_vars:\n",
    "    tf.histogram_summary(var.op.name+'/gradient', grad)\n",
    "\n",
    "summary_op = tf.merge_all_summaries() "
   ]
  },
  {
   "cell_type": "markdown",
   "metadata": {},
   "source": [
    "## Train the Model"
   ]
  },
  {
   "cell_type": "code",
   "execution_count": 7,
   "metadata": {
    "collapsed": false,
    "scrolled": true
   },
   "outputs": [
    {
     "name": "stdout",
     "output_type": "stream",
     "text": [
      "Epoch 1, Loss: 1.128\n",
      "Epoch 2, Loss: 0.148\n",
      "Epoch 3, Loss: 0.087\n",
      "Epoch 4, Loss: 0.066\n",
      "Epoch 5, Loss: 0.054\n",
      "Finished training!\n",
      "\n",
      "Test accuracy: 0.972\n"
     ]
    }
   ],
   "source": [
    "batch_size = 100\n",
    "num_epoch = 5\n",
    "num_iter_per_epoch = int(x_train.shape[0] / batch_size)\n",
    "log_path = 'log/'\n",
    "\n",
    "# launch the graph\n",
    "config = tf.ConfigProto()\n",
    "config.gpu_options.allow_growth = True\n",
    "with tf.Session(config=config) as sess:\n",
    "    # initialize tensor variables\n",
    "    tf.initialize_all_variables().run()\n",
    "    summary_writer = tf.train.SummaryWriter(log_path, graph=tf.get_default_graph())\n",
    "    # training phase\n",
    "    for e in range(num_epoch):\n",
    "        avg_loss = 0.\n",
    "        # loop over all batches\n",
    "        for i in range(num_iter_per_epoch):\n",
    "            x_batch = x_train[i*batch_size:(i+1)*batch_size]\n",
    "            y_batch = y_train[i*batch_size:(i+1)*batch_size]\n",
    "            # run optimization op (backprop) and loss op (to get loss value)\n",
    "            feed_dict={x: x_batch, y: y_batch}\n",
    "            _, c = sess.run([train_op, loss], feed_dict=feed_dict)\n",
    "            # compute average loss\n",
    "            avg_loss += c / num_iter_per_epoch\n",
    "            \n",
    "            if i % 10 == 0:\n",
    "                summary = sess.run(summary_op, feed_dict)\n",
    "                summary_writer.add_summary(summary, e*num_iter_per_epoch + i)\n",
    "        print (\"Epoch %d, Loss: %.3f\"% (e+1, avg_loss))\n",
    "    print (\"Finished training!\\n\")\n",
    "    \n",
    "    # test phase\n",
    "    num_iter_per_epoch = int(x_test.shape[0] / batch_size)\n",
    "    test_accuracy = 0.0\n",
    "    for i in range(num_iter_per_epoch):\n",
    "        x_batch = x_test[i*batch_size:(i+1)*batch_size]\n",
    "        y_batch = y_test[i*batch_size:(i+1)*batch_size]\n",
    "       \n",
    "        acc = sess.run(accuracy, feed_dict={x: x_batch, y: y_batch})\n",
    "        test_accuracy += acc\n",
    "\n",
    "    print (\"Test accuracy: %.3f\" %(test_accuracy/num_iter_per_epoch))"
   ]
  },
  {
   "cell_type": "markdown",
   "metadata": {},
   "source": [
    "<br>\n",
    "## Execute TensorBoard\n",
    "To execute the tensorboard, open the new terminal, run command below and open http://localhost:6005/ on your web browser.\n",
    "```bash\n",
    "$ tensorboard --logdir='./log' --port=6005 \n",
    "```"
   ]
  }
 ],
 "metadata": {
  "anaconda-cloud": {},
  "kernelspec": {
   "display_name": "Python [conda root]",
   "language": "python",
   "name": "conda-root-py"
  },
  "language_info": {
   "codemirror_mode": {
    "name": "ipython",
    "version": 2
   },
   "file_extension": ".py",
   "mimetype": "text/x-python",
   "name": "python",
   "nbconvert_exporter": "python",
   "pygments_lexer": "ipython2",
   "version": "2.7.12"
  }
 },
 "nbformat": 4,
 "nbformat_minor": 1
}

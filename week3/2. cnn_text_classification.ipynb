{
 "cells": [
  {
   "cell_type": "markdown",
   "metadata": {},
   "source": [
    "# Convolutional Neural Network for Text Classification\n",
    "In this tutorial, we are going to implement a convolutional neural network to classify movie review dataset(positive or negative)."
   ]
  },
  {
   "cell_type": "code",
   "execution_count": 1,
   "metadata": {
    "collapsed": false
   },
   "outputs": [],
   "source": [
    "import tensorflow as tf\n",
    "import numpy as np\n",
    "from utils import *\n",
    "from sklearn.cross_validation import train_test_split\n",
    "% load_ext autoreload\n",
    "% autoreload 2"
   ]
  },
  {
   "cell_type": "code",
   "execution_count": 2,
   "metadata": {
    "collapsed": false
   },
   "outputs": [],
   "source": [
    "x_pos = open('data/polarity/pos.txt').readlines()\n",
    "x_neg = open('data/polarity/neg.txt').readlines()\n",
    "y_pos = np.ones(len(x_pos))\n",
    "y_neg = np.zeros(len(x_neg))\n",
    "y = np.concatenate([y_pos, y_neg])"
   ]
  },
  {
   "cell_type": "markdown",
   "metadata": {},
   "source": [
    "## Preprocessing"
   ]
  },
  {
   "cell_type": "code",
   "execution_count": 3,
   "metadata": {
    "collapsed": false
   },
   "outputs": [],
   "source": [
    "x, mask, word_to_idx, seq_length, vocab_size = preprocess(x_pos+x_neg)"
   ]
  },
  {
   "cell_type": "code",
   "execution_count": 4,
   "metadata": {
    "collapsed": true
   },
   "outputs": [],
   "source": [
    "# randomly shuffle data\n",
    "np.random.seed(10)\n",
    "random_idx = np.random.permutation(len(y))\n",
    "x = x[random_idx]\n",
    "y = y[random_idx]\n",
    "x_train, x_test, y_train, y_test = train_test_split(x, y, test_size=0.1, random_state=42)"
   ]
  },
  {
   "cell_type": "code",
   "execution_count": 5,
   "metadata": {
    "collapsed": false
   },
   "outputs": [
    {
     "data": {
      "text/plain": [
       "(9595, 58)"
      ]
     },
     "execution_count": 5,
     "metadata": {},
     "output_type": "execute_result"
    }
   ],
   "source": [
    "x_train.shape"
   ]
  },
  {
   "cell_type": "code",
   "execution_count": null,
   "metadata": {
    "collapsed": true
   },
   "outputs": [],
   "source": [
    "self, sequence_length, num_classes, vocab_size, embedding_size, filter_sizes, num_filters, l2_reg_lambda=0.0"
   ]
  },
  {
   "cell_type": "code",
   "execution_count": null,
   "metadata": {
    "collapsed": true
   },
   "outputs": [],
   "source": [
    "class TextCNN(object):\n",
    "    \n",
    "    def __init__(self, seq_length, num_class, vocab_size, dim_emb, filter_size, num_filter):\n",
    "        \n",
    "        \n",
    "        self.x = tf.placeholder(tf.int32, [None, seq_length], name='x')\n",
    "        self.y = tf.placeholder(tf.float32, [None], name='y')\n",
    "        self.dropout_keep_prob = tf.placeholder(tf.float32, name=\"dropout_keep_prob\")\n",
    "        \n",
    "        \n",
    "        with tf.variable_scope('embedding'):\n",
    "            w = tf.get_variable('w', shape=[vocab_size, dim_emb], initializer=tf.random_uniform_initializer(-1, 1))\n",
    "            x_embed = tf.nn.embedding_lookup(w, self.x)    # (batch_size, seq_length, dim_emb)\n",
    "            x_embed = tf.expand_dims(x_embed, -1)          # (batch_size, seq_length, dim_emb, 1)\n",
    "            \n",
    "        \n",
    "        "
   ]
  },
  {
   "cell_type": "code",
   "execution_count": 9,
   "metadata": {
    "collapsed": false
   },
   "outputs": [],
   "source": [
    "x = tf.placeholder(tf.int32, [None, seq_length], name='x')\n",
    "\n",
    "\n",
    "with tf.variable_scope('embedding'):\n",
    "    w = tf.get_variable('w', shape=[10023, 128], initializer=tf.random_uniform_initializer(-1, 1))\n",
    "    x_embed = tf.nn.embedding_lookup(w, x)    # (batch_size, seq_length, dim_emb)\n",
    "    x_embed = tf.expand_dims(x_embed, -1)          # (batch_size, seq_length, dim_emb, 1)"
   ]
  },
  {
   "cell_type": "code",
   "execution_count": 20,
   "metadata": {
    "collapsed": false,
    "scrolled": true
   },
   "outputs": [],
   "source": [
    "out = conv2d(x_embed, name='conv4')"
   ]
  },
  {
   "cell_type": "code",
   "execution_count": 22,
   "metadata": {
    "collapsed": false
   },
   "outputs": [
    {
     "data": {
      "text/plain": [
       "<tf.Tensor 'conv4/add:0' shape=(?, 58, 128, 128) dtype=float32>"
      ]
     },
     "execution_count": 22,
     "metadata": {},
     "output_type": "execute_result"
    }
   ],
   "source": [
    "out"
   ]
  },
  {
   "cell_type": "code",
   "execution_count": 21,
   "metadata": {
    "collapsed": true
   },
   "outputs": [],
   "source": [
    "def conv2d(x, filter_size=3, dim_emb=128, num_filter=128, name=None):\n",
    "    \"\"\"Computes 1d convolution operation\n",
    "    \n",
    "    Args:\n",
    "        x: input tensor of shape (batch_size, seq_length, dim_emb, 1)\n",
    "        channel_out: number of channel for output tensor\n",
    "        filter_size: filter size; default is 3\n",
    "        dim_emb: embedding size; default is 128\n",
    "        num_filter: number of filter; default is 128\n",
    "        \n",
    "    Returns:\n",
    "        out: output tensor of shape (batch_size, seq_length, 1, num_filter)\n",
    "    \"\"\"\n",
    "    channel_in = x.get_shape()[-1]\n",
    "    \n",
    "    with tf.variable_scope(name):\n",
    "        w = tf.get_variable('w', shape=[filter_size, dim_emb, 1, num_filter], \n",
    "                            initializer=tf.contrib.layers.xavier_initializer())\n",
    "        b = tf.get_variable('b', shape=[num_filter], initializer=tf.constant_initializer(0.0))\n",
    "        \n",
    "        out = tf.nn.conv2d(x, w, strides=[1, 1, 1, 1], padding='VALID') + b\n",
    "        \n",
    "        return out\n",
    "    \n",
    "def linear(x, dim_out, name=None):\n",
    "    \"\"\"Computes linear transform (fully-connected layer)\n",
    "    \n",
    "    Args:\n",
    "        x: input tensor of shape (batch_size, dim_in)\n",
    "        dim_out: dimension for output tensor\n",
    "        \n",
    "    Returns:\n",
    "        out: output tensor of shape (batch_size, dim_out)\n",
    "    \"\"\"\n",
    "    dim_in = x.get_shape()[-1]\n",
    "    \n",
    "    with tf.variable_scope(name):\n",
    "        w = tf.get_variable('w', shape=[dim_in, dim_out], initializer=tf.contrib.layers.xavier_initializer())\n",
    "        b = tf.get_variable('b', shape=[dim_out], initializer=tf.constant_initializer(0.0))\n",
    "        \n",
    "        out = tf.matmul(x, w) + b\n",
    "        \n",
    "        return out"
   ]
  }
 ],
 "metadata": {
  "anaconda-cloud": {},
  "kernelspec": {
   "display_name": "Python [conda root]",
   "language": "python",
   "name": "conda-root-py"
  },
  "language_info": {
   "codemirror_mode": {
    "name": "ipython",
    "version": 2
   },
   "file_extension": ".py",
   "mimetype": "text/x-python",
   "name": "python",
   "nbconvert_exporter": "python",
   "pygments_lexer": "ipython2",
   "version": "2.7.12"
  }
 },
 "nbformat": 4,
 "nbformat_minor": 1
}
